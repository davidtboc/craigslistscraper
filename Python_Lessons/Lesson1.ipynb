{
 "cells": [
  {
   "cell_type": "code",
   "execution_count": 1,
   "id": "62301e77",
   "metadata": {},
   "outputs": [],
   "source": [
    "x = 3\n",
    "y = \"hello\""
   ]
  },
  {
   "cell_type": "code",
   "execution_count": null,
   "id": "815e949e",
   "metadata": {},
   "outputs": [],
   "source": []
  },
  {
   "cell_type": "markdown",
   "id": "fed1a6fc",
   "metadata": {},
   "source": [
    "Hello Im learning python\n",
    "\n",
    "\n"
   ]
  },
  {
   "cell_type": "code",
   "execution_count": 2,
   "id": "60a73c69",
   "metadata": {},
   "outputs": [
    {
     "name": "stdout",
     "output_type": "stream",
     "text": [
      "15\n"
     ]
    }
   ],
   "source": [
    "x = 10\n",
    "y = 5\n",
    "z = x + y\n",
    "print(z)"
   ]
  },
  {
   "cell_type": "code",
   "execution_count": 5,
   "id": "86368132",
   "metadata": {},
   "outputs": [
    {
     "name": "stdout",
     "output_type": "stream",
     "text": [
      "The answer is 5\n",
      "the answer is 5\n"
     ]
    }
   ],
   "source": [
    "x = 10\n",
    "y = 5\n",
    "subtraction = x - y\n",
    "\n",
    "print(f\"The answer is {subtraction}\")\n",
    "print(\"the answer is\", subtraction)\n"
   ]
  },
  {
   "cell_type": "code",
   "execution_count": 7,
   "id": "5d9a18f7",
   "metadata": {},
   "outputs": [
    {
     "name": "stdout",
     "output_type": "stream",
     "text": [
      "The multiplication is 40\n"
     ]
    }
   ],
   "source": [
    "x = 4\n",
    "y = 10\n",
    "mul = x*y\n",
    "print(f\"The multiplication is {mul}\")\n"
   ]
  },
  {
   "cell_type": "code",
   "execution_count": 15,
   "id": "1fbf2f23",
   "metadata": {},
   "outputs": [
    {
     "name": "stdout",
     "output_type": "stream",
     "text": [
      "the divide is 5.0\n"
     ]
    }
   ],
   "source": [
    "x = 5\n",
    "y = 1\n",
    "\n",
    "if (y == 0):\n",
    "    print(f\"Traceback\")\n",
    "\n",
    "else:\n",
    "    divide = x/y\n",
    "    print(f\"the divide is {divide}\")\n"
   ]
  },
  {
   "cell_type": "code",
   "execution_count": null,
   "id": "e9ef661d",
   "metadata": {},
   "outputs": [],
   "source": []
  }
 ],
 "metadata": {
  "kernelspec": {
   "display_name": "venv",
   "language": "python",
   "name": "python3"
  },
  "language_info": {
   "codemirror_mode": {
    "name": "ipython",
    "version": 3
   },
   "file_extension": ".py",
   "mimetype": "text/x-python",
   "name": "python",
   "nbconvert_exporter": "python",
   "pygments_lexer": "ipython3",
   "version": "3.13.0"
  }
 },
 "nbformat": 4,
 "nbformat_minor": 5
}
