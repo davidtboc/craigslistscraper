{
 "cells": [
  {
   "cell_type": "markdown",
   "id": "cef3b96f",
   "metadata": {},
   "source": [
    "Factorial function"
   ]
  },
  {
   "cell_type": "code",
   "execution_count": 13,
   "id": "978b904d",
   "metadata": {},
   "outputs": [],
   "source": [
    "# 4!  = 4 x 3 x 2 x 1 = 24\n",
    "\n",
    "def factorial():\n",
    "    x = int(input(\"Enter a number: \"))\n",
    "    print(x)\n",
    "\n",
    "    number = 1\n",
    "    for i in range(1, x+1):\n",
    "        number = number * i\n",
    "\n",
    "    print(f\"the factorial of this number is {number}\")"
   ]
  },
  {
   "cell_type": "code",
   "execution_count": 14,
   "id": "eb1fed65",
   "metadata": {},
   "outputs": [
    {
     "name": "stdout",
     "output_type": "stream",
     "text": [
      "4\n",
      "the factorial of this number is 24\n"
     ]
    }
   ],
   "source": [
    "factorial()"
   ]
  }
 ],
 "metadata": {
  "kernelspec": {
   "display_name": "venv",
   "language": "python",
   "name": "python3"
  },
  "language_info": {
   "codemirror_mode": {
    "name": "ipython",
    "version": 3
   },
   "file_extension": ".py",
   "mimetype": "text/x-python",
   "name": "python",
   "nbconvert_exporter": "python",
   "pygments_lexer": "ipython3",
   "version": "3.13.0"
  }
 },
 "nbformat": 4,
 "nbformat_minor": 5
}
