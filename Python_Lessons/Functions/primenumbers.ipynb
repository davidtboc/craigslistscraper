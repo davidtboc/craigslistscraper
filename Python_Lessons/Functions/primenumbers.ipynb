{
 "cells": [
  {
   "cell_type": "markdown",
   "id": "0ceb441c",
   "metadata": {},
   "source": [
    "Function for prime numbers"
   ]
  },
  {
   "cell_type": "code",
   "execution_count": 25,
   "id": "06fa92a1",
   "metadata": {},
   "outputs": [],
   "source": [
    "\n",
    "def isprime():\n",
    "    x = int(input(\"Enter a number: \"))\n",
    "    print(\"The number is:\", x)\n",
    "\n",
    "    if x > 1:\n",
    "        for index in range(2, x):\n",
    "            if x % index == 0:\n",
    "                print(\"The number is not a prime number\")\n",
    "                break\n",
    "        else:\n",
    "            print(\"The number is prime\")\n",
    "    else:\n",
    "        print(\"The number is not a prime number\")\n"
   ]
  },
  {
   "cell_type": "code",
   "execution_count": 26,
   "id": "fdd0e0f2",
   "metadata": {},
   "outputs": [
    {
     "name": "stdout",
     "output_type": "stream",
     "text": [
      "The number is: 7\n",
      "The number is prime\n"
     ]
    }
   ],
   "source": [
    "isprime()"
   ]
  }
 ],
 "metadata": {
  "kernelspec": {
   "display_name": "venv",
   "language": "python",
   "name": "python3"
  },
  "language_info": {
   "codemirror_mode": {
    "name": "ipython",
    "version": 3
   },
   "file_extension": ".py",
   "mimetype": "text/x-python",
   "name": "python",
   "nbconvert_exporter": "python",
   "pygments_lexer": "ipython3",
   "version": "3.13.0"
  }
 },
 "nbformat": 4,
 "nbformat_minor": 5
}
