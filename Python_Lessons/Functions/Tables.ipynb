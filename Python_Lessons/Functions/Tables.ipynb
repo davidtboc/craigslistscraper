{
 "cells": [
  {
   "cell_type": "markdown",
   "id": "4d7754a4",
   "metadata": {},
   "source": [
    "Tables"
   ]
  },
  {
   "cell_type": "markdown",
   "id": "3f1dd7e5",
   "metadata": {},
   "source": [
    "Non parameterized function"
   ]
  },
  {
   "cell_type": "code",
   "execution_count": 19,
   "id": "546cea0b",
   "metadata": {},
   "outputs": [],
   "source": [
    "# 2 x 1 = 2\n",
    "\n",
    "def table():\n",
    "    x = int(input(\"Enter a value: \"))\n",
    "    print(f\"the table of {x}\")\n",
    "    \n",
    "    for i in range(1,11):\n",
    "        mult = i * x\n",
    "        print(f\"{x} x {i} = {mult}\")"
   ]
  },
  {
   "cell_type": "code",
   "execution_count": 20,
   "id": "6f161922",
   "metadata": {},
   "outputs": [
    {
     "name": "stdout",
     "output_type": "stream",
     "text": [
      "the table of 4\n",
      "4 x 1 = 4\n",
      "4 x 2 = 8\n",
      "4 x 3 = 12\n",
      "4 x 4 = 16\n",
      "4 x 5 = 20\n",
      "4 x 6 = 24\n",
      "4 x 7 = 28\n",
      "4 x 8 = 32\n",
      "4 x 9 = 36\n",
      "4 x 10 = 40\n"
     ]
    }
   ],
   "source": [
    "table()"
   ]
  },
  {
   "cell_type": "markdown",
   "id": "c354b186",
   "metadata": {},
   "source": [
    "Parameterized function"
   ]
  },
  {
   "cell_type": "code",
   "execution_count": 21,
   "id": "5c5dbf14",
   "metadata": {},
   "outputs": [],
   "source": [
    "def table(number):\n",
    "    print(f\"the table of {number}\")\n",
    "    \n",
    "    for i in range(1,11):\n",
    "        mult = i * number\n",
    "        print(f\"{number} x {i} = {mult}\")"
   ]
  },
  {
   "cell_type": "code",
   "execution_count": 22,
   "id": "1408744b",
   "metadata": {},
   "outputs": [
    {
     "name": "stdout",
     "output_type": "stream",
     "text": [
      "the table of 4\n",
      "4 x 1 = 4\n",
      "4 x 2 = 8\n",
      "4 x 3 = 12\n",
      "4 x 4 = 16\n",
      "4 x 5 = 20\n",
      "4 x 6 = 24\n",
      "4 x 7 = 28\n",
      "4 x 8 = 32\n",
      "4 x 9 = 36\n",
      "4 x 10 = 40\n"
     ]
    }
   ],
   "source": [
    "x = int(input(\"Enter a value: \"))\n",
    "table(x)"
   ]
  }
 ],
 "metadata": {
  "kernelspec": {
   "display_name": "venv",
   "language": "python",
   "name": "python3"
  },
  "language_info": {
   "codemirror_mode": {
    "name": "ipython",
    "version": 3
   },
   "file_extension": ".py",
   "mimetype": "text/x-python",
   "name": "python",
   "nbconvert_exporter": "python",
   "pygments_lexer": "ipython3",
   "version": "3.13.0"
  }
 },
 "nbformat": 4,
 "nbformat_minor": 5
}
