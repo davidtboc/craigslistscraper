{
 "cells": [
  {
   "cell_type": "code",
   "execution_count": 2,
   "id": "7a3ba65d",
   "metadata": {},
   "outputs": [],
   "source": [
    "text = \"Hello Friend\"\n"
   ]
  },
  {
   "cell_type": "markdown",
   "id": "1ebb73c9",
   "metadata": {},
   "source": [
    "Finding the length of the function"
   ]
  },
  {
   "cell_type": "code",
   "execution_count": null,
   "id": "a9d671ea",
   "metadata": {},
   "outputs": [
    {
     "name": "stdout",
     "output_type": "stream",
     "text": [
      "12\n"
     ]
    },
    {
     "ename": "NameError",
     "evalue": "name 'upper' is not defined",
     "output_type": "error",
     "traceback": [
      "\u001b[31m---------------------------------------------------------------------------\u001b[39m",
      "\u001b[31mNameError\u001b[39m                                 Traceback (most recent call last)",
      "\u001b[36mCell\u001b[39m\u001b[36m \u001b[39m\u001b[32mIn[4]\u001b[39m\u001b[32m, line 2\u001b[39m\n\u001b[32m      1\u001b[39m \u001b[38;5;28mprint\u001b[39m(\u001b[38;5;28mlen\u001b[39m(text))\n\u001b[32m----> \u001b[39m\u001b[32m2\u001b[39m \u001b[38;5;28mprint\u001b[39m(\u001b[33mf\u001b[39m\u001b[33m\"\u001b[39m\u001b[33mthe upper is \u001b[39m\u001b[38;5;132;01m{\u001b[39;00m\u001b[43mupper\u001b[49m(text)\u001b[38;5;132;01m}\u001b[39;00m\u001b[33m\"\u001b[39m)\n",
      "\u001b[31mNameError\u001b[39m: name 'upper' is not defined"
     ]
    }
   ],
   "source": [
    "print(len(text))"
   ]
  },
  {
   "cell_type": "markdown",
   "id": "cabf070d",
   "metadata": {},
   "source": [
    "Uppercase and lowercase"
   ]
  },
  {
   "cell_type": "code",
   "execution_count": 6,
   "id": "b0661df0",
   "metadata": {},
   "outputs": [
    {
     "name": "stdout",
     "output_type": "stream",
     "text": [
      "the upper is HELLO FRIEND\n",
      "the lower is hello friend\n"
     ]
    }
   ],
   "source": [
    "upperc = text.upper()\n",
    "lowerc = text.lower()\n",
    "print(f\"the upper is {upperc}\")\n",
    "print(f\"the lower is {lowerc}\")"
   ]
  },
  {
   "cell_type": "markdown",
   "id": "0f984e52",
   "metadata": {},
   "source": [
    "Remove extra spaces\n",
    "\n",
    "Remove extra spaces from start and end"
   ]
  },
  {
   "cell_type": "code",
   "execution_count": 9,
   "id": "d3229143",
   "metadata": {},
   "outputs": [
    {
     "name": "stdout",
     "output_type": "stream",
     "text": [
      "Without spaces is Apples Oranges\n",
      "Without spaces is Apples Oranges\n"
     ]
    }
   ],
   "source": [
    "usertext = \"Apples Oranges \"\n",
    "nospaces0 = usertext.strip()\n",
    "nospaces1 = usertext.rstrip()\n",
    "\n",
    "print(f\"Without spaces is {nospaces0}\")\n",
    "print(f\"Without spaces is {nospaces1}\")"
   ]
  },
  {
   "cell_type": "markdown",
   "id": "6ebf1842",
   "metadata": {},
   "source": [
    "Replacing text"
   ]
  },
  {
   "cell_type": "code",
   "execution_count": null,
   "id": "b5c17a75",
   "metadata": {},
   "outputs": [
    {
     "data": {
      "text/plain": [
       "'Apples Strawberry '"
      ]
     },
     "execution_count": 10,
     "metadata": {},
     "output_type": "execute_result"
    }
   ],
   "source": [
    "usertext.replace(\"Oranges\", \"Strawberry\")"
   ]
  },
  {
   "cell_type": "markdown",
   "id": "1e3b4b37",
   "metadata": {},
   "source": [
    "Split words"
   ]
  },
  {
   "cell_type": "code",
   "execution_count": null,
   "id": "3dfb1cf4",
   "metadata": {},
   "outputs": [
    {
     "name": "stdout",
     "output_type": "stream",
     "text": [
      "['Apple', 'Blueberry', 'Tree', 'Hug']\n"
     ]
    }
   ],
   "source": [
    "newstring = \"Apple Blueberry Tree Hug\"\n",
    "a = newstring.split(\" \")\n",
    "print(a)"
   ]
  },
  {
   "cell_type": "markdown",
   "id": "e70b2ca7",
   "metadata": {},
   "source": [
    "Joining separate words into a stirng"
   ]
  },
  {
   "cell_type": "code",
   "execution_count": 14,
   "id": "1729b378",
   "metadata": {},
   "outputs": [
    {
     "name": "stdout",
     "output_type": "stream",
     "text": [
      "Apple/Blueberry/Tree/Hug\n"
     ]
    }
   ],
   "source": [
    "newone = \"/\".join(a)\n",
    "print(newone)"
   ]
  },
  {
   "cell_type": "markdown",
   "id": "be5488de",
   "metadata": {},
   "source": [
    "## Find and count\n",
    "\n",
    "Find: find does not include spaces and just gives the output from the first word only before space\n",
    "\n",
    "Count includes spaces and counts all occurences inlcuding the space"
   ]
  },
  {
   "cell_type": "code",
   "execution_count": null,
   "id": "658723d3",
   "metadata": {},
   "outputs": [
    {
     "name": "stdout",
     "output_type": "stream",
     "text": [
      "Hello Friend\n",
      "1\n",
      "2\n"
     ]
    }
   ],
   "source": [
    "print(text)\n",
    "print(text.find(\"e\"))\n",
    "\n",
    "print(f\"{text.count(\"e\")}\")"
   ]
  },
  {
   "cell_type": "markdown",
   "id": "81e08dc5",
   "metadata": {},
   "source": [
    "checking String type"
   ]
  },
  {
   "cell_type": "code",
   "execution_count": 23,
   "id": "26d786ce",
   "metadata": {},
   "outputs": [
    {
     "name": "stdout",
     "output_type": "stream",
     "text": [
      "True\n",
      "False\n",
      "True\n",
      "True\n"
     ]
    }
   ],
   "source": [
    "print(\"HelloStrawberry\".isalpha())\n",
    "print(\"Hello Strawberry\".isalpha())\n",
    "print(\"1234\".isdigit())\n",
    "\n",
    "print(\"HelloStrawberry123\".isalnum())"
   ]
  },
  {
   "cell_type": "markdown",
   "id": "cde29e5d",
   "metadata": {},
   "source": [
    "Indexing"
   ]
  },
  {
   "cell_type": "code",
   "execution_count": 28,
   "id": "4d24f6c1",
   "metadata": {},
   "outputs": [
    {
     "name": "stdout",
     "output_type": "stream",
     "text": [
      "Hello Friend\n",
      "H\n",
      "d\n",
      " \n"
     ]
    }
   ],
   "source": [
    "print(text)\n",
    "print(text[0])\n",
    "print(text[-1])\n",
    "print(text[5])"
   ]
  },
  {
   "cell_type": "markdown",
   "id": "7ea7b80d",
   "metadata": {},
   "source": [
    "Slicing\n",
    "\n",
    "string[start : end]\n",
    "\n",
    "string[start : end : step]"
   ]
  },
  {
   "cell_type": "code",
   "execution_count": null,
   "id": "17bac720",
   "metadata": {},
   "outputs": [
    {
     "name": "stdout",
     "output_type": "stream",
     "text": [
      "Gr\n",
      "ape\n",
      "Gra\n",
      "pe\n",
      "pe\n",
      "Gr\n"
     ]
    }
   ],
   "source": [
    "text = \"Grape\"\n",
    "\n",
    "print(text[0:2])\n",
    "print(text[2:5])\n",
    "print(text[:3])\n",
    "print(text[3:])\n",
    "\n",
    "print(text[-2:])\n",
    "print(text[:-3])\n"
   ]
  },
  {
   "cell_type": "markdown",
   "id": "906c3b0e",
   "metadata": {},
   "source": [
    "Reversing a string\n",
    "\n",
    "string[start : end : step]"
   ]
  },
  {
   "cell_type": "code",
   "execution_count": 39,
   "id": "125cb6fb",
   "metadata": {},
   "outputs": [
    {
     "name": "stdout",
     "output_type": "stream",
     "text": [
      "Grape\n",
      "eparG\n"
     ]
    }
   ],
   "source": [
    "print(text)\n",
    "print(text[::-1])\n"
   ]
  }
 ],
 "metadata": {
  "kernelspec": {
   "display_name": "venv",
   "language": "python",
   "name": "python3"
  },
  "language_info": {
   "codemirror_mode": {
    "name": "ipython",
    "version": 3
   },
   "file_extension": ".py",
   "mimetype": "text/x-python",
   "name": "python",
   "nbconvert_exporter": "python",
   "pygments_lexer": "ipython3",
   "version": "3.13.0"
  }
 },
 "nbformat": 4,
 "nbformat_minor": 5
}
