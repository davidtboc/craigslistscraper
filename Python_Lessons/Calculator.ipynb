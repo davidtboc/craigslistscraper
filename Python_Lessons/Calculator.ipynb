{
 "cells": [
  {
   "cell_type": "code",
   "execution_count": null,
   "id": "d32f3ecc",
   "metadata": {},
   "outputs": [
    {
     "name": "stdout",
     "output_type": "stream",
     "text": [
      "Welcome to David's Calculator.\n",
      "the first number is 2.0\n",
      "the second number is 3.0\n",
      "the choice is 4\n",
      "the divide is 0.6666666666666666\n",
      "the first number is 1.0\n",
      "the second number is 2.0\n",
      "the choice is 5\n"
     ]
    }
   ],
   "source": [
    "\n",
    "print(\"Welcome to David's Calculator.\")\n",
    "while True:\n",
    "    x = float(input(\"Enter the first number: \"))\n",
    "    print (f\"the first number is {x}\")\n",
    "    y = float(input(\"Enter the second number: \"))\n",
    "    print (f\"the second number is {y}\")\n",
    "    choice = int(input(\"Enter your choice: 1:Add, 2:Sub, 3: mul, 4: division, 5: exit \"))\n",
    "    print (f\"the choice is {choice}\")\n",
    "    if choice == 1:\n",
    "        z = x + y\n",
    "        print(f\"The addition answer is {z}\")\n",
    "    elif choice == 2:\n",
    "        subtraction = x - y\n",
    "        print(f\"The subtraction answer is {subtraction}\")\n",
    "    elif choice == 3:\n",
    "        mul = x*y\n",
    "        print(f\"The multiplication is {mul}\")\n",
    "    elif choice == 4:\n",
    "        if (y == 0):\n",
    "            print(f\"Traceback\")\n",
    "        else:\n",
    "            divide = x/y    \n",
    "            print(f\"the divide is {divide}\")\n",
    "    elif choice == 5:\n",
    "        \n",
    "        break\n",
    "    else:\n",
    "        print (\"You entered wrong input\")\n",
    "\n",
    "    "
   ]
  }
 ],
 "metadata": {
  "kernelspec": {
   "display_name": "venv",
   "language": "python",
   "name": "python3"
  },
  "language_info": {
   "codemirror_mode": {
    "name": "ipython",
    "version": 3
   },
   "file_extension": ".py",
   "mimetype": "text/x-python",
   "name": "python",
   "nbconvert_exporter": "python",
   "pygments_lexer": "ipython3",
   "version": "3.13.0"
  }
 },
 "nbformat": 4,
 "nbformat_minor": 5
}
